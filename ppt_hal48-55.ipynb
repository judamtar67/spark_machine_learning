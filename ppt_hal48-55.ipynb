{
  "nbformat": 4,
  "nbformat_minor": 0,
  "metadata": {
    "colab": {
      "provenance": [],
      "authorship_tag": "ABX9TyPtU78EqrYehgmX76whp0BP",
      "include_colab_link": true
    },
    "kernelspec": {
      "name": "python3",
      "display_name": "Python 3"
    },
    "language_info": {
      "name": "python"
    }
  },
  "cells": [
    {
      "cell_type": "markdown",
      "metadata": {
        "id": "view-in-github",
        "colab_type": "text"
      },
      "source": [
        "<a href=\"https://colab.research.google.com/github/judamtar67/spark_machine_learning/blob/main/ppt_hal48-55.ipynb\" target=\"_parent\"><img src=\"https://colab.research.google.com/assets/colab-badge.svg\" alt=\"Open In Colab\"/></a>"
      ]
    },
    {
      "cell_type": "code",
      "execution_count": 1,
      "metadata": {
        "colab": {
          "base_uri": "https://localhost:8080/"
        },
        "id": "lS0qQAYmJftg",
        "outputId": "7d31df0e-627a-4f56-fc95-a1000d5716b5"
      },
      "outputs": [
        {
          "output_type": "stream",
          "name": "stdout",
          "text": [
            "Mounted at /content/drive\n"
          ]
        }
      ],
      "source": [
        "from google.colab import drive\n",
        "drive.mount('/content/drive')"
      ]
    },
    {
      "cell_type": "code",
      "source": [
        "# install pyspark\n",
        "!pip install pyspark"
      ],
      "metadata": {
        "colab": {
          "base_uri": "https://localhost:8080/"
        },
        "id": "jKiNQJtLJxFq",
        "outputId": "c43f7b89-14ec-418d-9716-f65a9097d73b"
      },
      "execution_count": 2,
      "outputs": [
        {
          "output_type": "stream",
          "name": "stdout",
          "text": [
            "Looking in indexes: https://pypi.org/simple, https://us-python.pkg.dev/colab-wheels/public/simple/\n",
            "Collecting pyspark\n",
            "  Downloading pyspark-3.4.0.tar.gz (310.8 MB)\n",
            "\u001b[2K     \u001b[90m━━━━━━━━━━━━━━━━━━━━━━━━━━━━━━━━━━━━━━━\u001b[0m \u001b[32m310.8/310.8 MB\u001b[0m \u001b[31m3.7 MB/s\u001b[0m eta \u001b[36m0:00:00\u001b[0m\n",
            "\u001b[?25h  Preparing metadata (setup.py) ... \u001b[?25l\u001b[?25hdone\n",
            "Requirement already satisfied: py4j==0.10.9.7 in /usr/local/lib/python3.10/dist-packages (from pyspark) (0.10.9.7)\n",
            "Building wheels for collected packages: pyspark\n",
            "  Building wheel for pyspark (setup.py) ... \u001b[?25l\u001b[?25hdone\n",
            "  Created wheel for pyspark: filename=pyspark-3.4.0-py2.py3-none-any.whl size=311317130 sha256=0f8932fc95cfc4df0fc09616996dd02d19fcfe0488c774ab258d49186781fe74\n",
            "  Stored in directory: /root/.cache/pip/wheels/7b/1b/4b/3363a1d04368e7ff0d408e57ff57966fcdf00583774e761327\n",
            "Successfully built pyspark\n",
            "Installing collected packages: pyspark\n",
            "Successfully installed pyspark-3.4.0\n"
          ]
        }
      ]
    },
    {
      "cell_type": "code",
      "source": [
        "import pyspark\n",
        "from pyspark.sql import SparkSession\n",
        "spark = SparkSession.builder.appName('Movie Recommendation').getOrCreate()"
      ],
      "metadata": {
        "id": "1mQgpybZJ5Ha"
      },
      "execution_count": 3,
      "outputs": []
    },
    {
      "cell_type": "code",
      "source": [
        "from pyspark.mllib.recommendation import Rating\n",
        "from pyspark.mllib.recommendation import ALS\n",
        "\n",
        "raw = spark.sparkContext.textFile(\"/content/drive/MyDrive/BigData/ratings.dat\")\n",
        "\n",
        "mydata = [(2, 0.01)]\n",
        "\n",
        "mydatardd = spark.sparkContext.parallelize(mydata).map(lambda x: Rating(0, x[0], x[1]))\n",
        "\n",
        "def parseRating(str):\n",
        "    fields = str.split(\"::\")\n",
        "    assert(len(fields) == 4)\n",
        "    return Rating(int(fields[0]), int(fields[1]), float(fields[2]))\n",
        "\n",
        "ratings = raw.map(parseRating)\n",
        "totalratings = ratings.union(mydatardd)\n",
        "model = ALS.train(totalratings, rank=8, iterations=5, lambda_=1.0)\n",
        "products = model.recommendProducts(1, 10)\n",
        "\n",
        "products"
      ],
      "metadata": {
        "colab": {
          "base_uri": "https://localhost:8080/"
        },
        "id": "ZJaWvK1VJ8BK",
        "outputId": "57a51148-c7f0-429a-e95e-0f35a9acb3ec"
      },
      "execution_count": 5,
      "outputs": [
        {
          "output_type": "execute_result",
          "data": {
            "text/plain": [
              "[Rating(user=1, product=3382, rating=4.457719776619788),\n",
              " Rating(user=1, product=989, rating=4.018027320979452),\n",
              " Rating(user=1, product=557, rating=3.9018392913456887),\n",
              " Rating(user=1, product=787, rating=3.8970494091877033),\n",
              " Rating(user=1, product=3233, rating=3.895714274317371),\n",
              " Rating(user=1, product=1830, rating=3.8954391722312773),\n",
              " Rating(user=1, product=3607, rating=3.843834348361664),\n",
              " Rating(user=1, product=3172, rating=3.82182438337599),\n",
              " Rating(user=1, product=3656, rating=3.786166561580936),\n",
              " Rating(user=1, product=2503, rating=3.785781723174142)]"
            ]
          },
          "metadata": {},
          "execution_count": 5
        }
      ]
    },
    {
      "cell_type": "code",
      "source": [
        "from pyspark.mllib.linalg import Vectors\n",
        "from pyspark.mllib.stat import Statistics\n",
        "\n",
        "vectorRDD = totalratings.map(lambda rating: Vectors.dense(rating.user, rating.product, rating.rating))\n",
        "summary = Statistics.colStats(vectorRDD)\n",
        "\n",
        "print(summary.mean())\n",
        "print(summary.variance())\n",
        "print(summary.numNonzeros())"
      ],
      "metadata": {
        "colab": {
          "base_uri": "https://localhost:8080/"
        },
        "id": "Nq_WUzqXNwEb",
        "outputId": "fca9ef41-6669-40dc-cf77-20cdd94205f2"
      },
      "execution_count": 6,
      "outputs": [
        {
          "output_type": "stream",
          "name": "stdout",
          "text": [
            "[3024.50932404 1865.53803501    3.58156088]\n",
            "[2.98741660e+06 1.20130746e+06 1.24792804e+00]\n",
            "[1000209. 1000210. 1000210.]\n"
          ]
        }
      ]
    },
    {
      "cell_type": "code",
      "source": [
        "from pyspark.ml.clustering import KMeans\n",
        "from pyspark.ml.linalg import Vectors\n",
        "\n",
        "data = spark.read.text(\"/content/drive/MyDrive/BigData/kmeans_data.txt\")\n",
        "parsedData = data.rdd.map(lambda s: Vectors.dense([float(x) for x in s.value.split(' ')]))\n",
        "\n",
        "# Convert RDD to DataFrame\n",
        "parsedData = parsedData.map(lambda x: (x, )).toDF([\"features\"])\n",
        "\n",
        "# Cluster the data into two classes using KMeans\n",
        "numClusters = 2\n",
        "numIterations = 20\n",
        "kmeans = KMeans().setK(numClusters).setMaxIter(numIterations)\n",
        "model = kmeans.fit(parsedData)\n",
        "\n",
        "# Predict the cluster for each data point\n",
        "predictions = model.transform(parsedData)\n",
        "\n",
        "# Compute Within Set Sum of Squared Errors\n",
        "wssse = model.summary.trainingCost\n",
        "print(\"Within Set Sum of Squared Errors = \" + str(wssse))\n",
        "\n",
        "# Print the predicted cluster for each data point\n",
        "predictions.select(\"prediction\").show()"
      ],
      "metadata": {
        "colab": {
          "base_uri": "https://localhost:8080/"
        },
        "id": "hcmOtijcN9K6",
        "outputId": "265618b5-2e9e-4b13-935c-d03f28614a65"
      },
      "execution_count": 7,
      "outputs": [
        {
          "output_type": "stream",
          "name": "stdout",
          "text": [
            "Within Set Sum of Squared Errors = 0.1199999999999996\n",
            "+----------+\n",
            "|prediction|\n",
            "+----------+\n",
            "|         0|\n",
            "|         0|\n",
            "|         0|\n",
            "|         1|\n",
            "|         1|\n",
            "|         1|\n",
            "+----------+\n",
            "\n"
          ]
        }
      ]
    },
    {
      "cell_type": "code",
      "source": [
        "from pyspark.mllib.clustering import KMeans, KMeansModel\n",
        "from numpy import array\n",
        "from math import sqrt\n",
        "\n",
        "\n",
        "# Load and parse the data\n",
        "data = spark.sparkContext.textFile(\"/content/drive/MyDrive/BigData/kmeans_data.txt\")\n",
        "parsedData = data.map(lambda line: array([float(x) for x in line.split(' ')]))\n",
        "\n",
        "# Build the model (cluster the data)\n",
        "clusters = KMeans.train(parsedData, k=2, maxIterations=10, initializationMode=\"random\")\n",
        "\n",
        "# Evaluate clustering by computing Within Set Sum of Squared Errors\n",
        "def error(point):\n",
        "    center = clusters.centers[clusters.predict(point)]\n",
        "    return sqrt(sum([x ** 2 for x in (point - center)]))\n",
        "\n",
        "WSSSE = parsedData.map(lambda point: error(point)).reduce(lambda x, y: x + y)\n",
        "\n",
        "print(\"Within Set Sum of Squared Error = \" + str(WSSSE))\n",
        "\n",
        "# Save and load model\n",
        "clusters.save(spark.sparkContext, \"/content/jud_path\")\n",
        "sameModel = KMeansModel.load(spark.sparkContext, \"/content/jud_path\")"
      ],
      "metadata": {
        "colab": {
          "base_uri": "https://localhost:8080/"
        },
        "id": "bc-H3d1zOAhL",
        "outputId": "85da007d-e941-43c8-8c5e-dca1c14150e2"
      },
      "execution_count": 8,
      "outputs": [
        {
          "output_type": "stream",
          "name": "stdout",
          "text": [
            "Within Set Sum of Squared Error = 0.6928203230275529\n"
          ]
        }
      ]
    }
  ]
}